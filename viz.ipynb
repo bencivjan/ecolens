{
 "cells": [
  {
   "cell_type": "code",
   "execution_count": null,
   "metadata": {},
   "outputs": [],
   "source": [
    "import pandas as pd\n",
    "import matplotlib.pyplot as plt"
   ]
  },
  {
   "cell_type": "code",
   "execution_count": null,
   "metadata": {},
   "outputs": [],
   "source": [
    "# Load the CSV files\n",
    "accuracy_df = pd.read_csv('accuracy.csv')  # File containing \"Average IoU\"\n",
    "energy_files = ['1_5ghz.csv', '1_8ghz.csv', '2_1ghz.csv', '2_4ghz.csv']  # Energy files\n",
    "\n",
    "# Merge all energy files into one DataFrame\n",
    "energy_df = pd.concat([pd.read_csv(f) for f in energy_files], ignore_index=True)\n",
    "\n",
    "# Merge the accuracy and energy data on common columns\n",
    "merged_df = pd.merge(accuracy_df, energy_df, on=[\"Frequency\", \"Filter\", \"Threshold\", \"Frame Bitrate\"])\n",
    "\n",
    "# Plotting\n",
    "plt.figure(figsize=(10, 6))\n",
    "plt.scatter(merged_df['Energy'], merged_df['Average IoU'], color='b', label='Energy vs Accuracy')\n",
    "\n",
    "# Labels and title\n",
    "plt.xlabel('Energy')\n",
    "plt.ylabel('Average IoU (Accuracy)')\n",
    "plt.title('Energy vs Accuracy for Various Configurations')\n",
    "\n",
    "# Add grid and show the plot\n",
    "plt.grid(True)\n",
    "plt.legend()\n",
    "plt.show()"
   ]
  }
 ],
 "metadata": {
  "language_info": {
   "name": "python"
  },
  "orig_nbformat": 4
 },
 "nbformat": 4,
 "nbformat_minor": 2
}
